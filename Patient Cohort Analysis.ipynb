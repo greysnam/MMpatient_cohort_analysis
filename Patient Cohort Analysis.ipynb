{
 "cells": [
  {
   "cell_type": "markdown",
   "metadata": {},
   "source": [
    "# Patient Cohort Analysis"
   ]
  },
  {
   "cell_type": "markdown",
   "metadata": {},
   "source": [
    "This analysis was done on a cohort of blood cancer patients for submission to a medical conference. The research team was trying to assess sequential treatment and responses on patients. All sensitive data omitted. "
   ]
  },
  {
   "cell_type": "code",
   "execution_count": 1,
   "metadata": {},
   "outputs": [],
   "source": [
    "import pandas as pd\n",
    "import numpy as np"
   ]
  },
  {
   "cell_type": "markdown",
   "metadata": {},
   "source": [
    "LOTdata dataframe contains information on lines of therapy, order, start/end dates, response and NCT for each patient."
   ]
  },
  {
   "cell_type": "code",
   "execution_count": 2,
   "metadata": {},
   "outputs": [],
   "source": [
    "# LOTdata from All4Cure - Manually Curated\n",
    "\n",
    "LOTdata = pd.read_csv(\"data.csv\")\n",
    "LOTdata = LOTdata.rename(columns = {'Patient':'A4CUID'})\n",
    "LOTdata = LOTdata[['A4CUID', 'Order', 'Treatment Start', 'Line of Therapy', 'End Treatment', 'Date Best Response', 'Response', 'NCT number']]"
   ]
  },
  {
   "cell_type": "markdown",
   "metadata": {},
   "source": [
    "ptkey dataframe contains information on diagnosis, location, date of diagnosis, age, gender, status (alive or deceased) and clinic information. "
   ]
  },
  {
   "cell_type": "code",
   "execution_count": 3,
   "metadata": {},
   "outputs": [],
   "source": [
    "# patient key - from ptkey spreadsheet \n",
    "ptkey = pd.read_csv(\"data2.csv\")"
   ]
  },
  {
   "cell_type": "code",
   "execution_count": 4,
   "metadata": {},
   "outputs": [
    {
     "data": {
      "text/plain": [
       "diagnosis\n",
       "Amyloidosis                   2\n",
       "Lymphoma                      2\n",
       "MGUS                         25\n",
       "MM                          409\n",
       "Myelodysplastic Syndrome      2\n",
       "PCL                           8\n",
       "SMM                          51\n",
       "Waldenstrom's                 2\n",
       "Name: A4CUID, dtype: int64"
      ]
     },
     "execution_count": 4,
     "metadata": {},
     "output_type": "execute_result"
    }
   ],
   "source": [
    "#get a count of A4CUID by diagnosis \n",
    "ptkey.groupby(['diagnosis'])['A4CUID'].count()"
   ]
  },
  {
   "cell_type": "markdown",
   "metadata": {},
   "source": [
    "### Basic Demographics"
   ]
  },
  {
   "cell_type": "code",
   "execution_count": 5,
   "metadata": {
    "tags": []
   },
   "outputs": [
    {
     "name": "stdout",
     "output_type": "stream",
     "text": [
      "diagnosis\n",
      "MGUS     25\n",
      "MM      409\n",
      "PCL       8\n",
      "SMM      51\n",
      "Name: A4CUID, dtype: int64\n",
      "Total patients (MGUS, SMM, MM, PCL) = 493\n"
     ]
    }
   ],
   "source": [
    "# Exclude Lymphoma, Amyloidosis, Myelodysplastic Syndrome and Waldenstroms from analysis\n",
    "MM_PCL_SMM_MGUS = ptkey.loc[~ptkey['diagnosis'].str.contains('Lymphoma|Amyloidosis|Myelodys|Walden')]\n",
    "print(MM_PCL_SMM_MGUS.groupby(['diagnosis'])['A4CUID'].count())\n",
    "\n",
    "MM_PCL_SMM_MGUS_SUM = MM_PCL_SMM_MGUS.groupby(['diagnosis'])['A4CUID'].count().sum()\n",
    "print(\"Total patients (MGUS, SMM, MM, PCL) = {}\".format(MM_PCL_SMM_MGUS_SUM))"
   ]
  },
  {
   "cell_type": "code",
   "execution_count": 6,
   "metadata": {
    "tags": []
   },
   "outputs": [
    {
     "data": {
      "text/html": [
       "<div>\n",
       "<style scoped>\n",
       "    .dataframe tbody tr th:only-of-type {\n",
       "        vertical-align: middle;\n",
       "    }\n",
       "\n",
       "    .dataframe tbody tr th {\n",
       "        vertical-align: top;\n",
       "    }\n",
       "\n",
       "    .dataframe thead th {\n",
       "        text-align: right;\n",
       "    }\n",
       "</style>\n",
       "<table border=\"1\" class=\"dataframe\">\n",
       "  <thead>\n",
       "    <tr style=\"text-align: right;\">\n",
       "      <th></th>\n",
       "      <th>count</th>\n",
       "      <th>mean</th>\n",
       "      <th>std</th>\n",
       "      <th>min</th>\n",
       "      <th>25%</th>\n",
       "      <th>50%</th>\n",
       "      <th>75%</th>\n",
       "      <th>max</th>\n",
       "    </tr>\n",
       "    <tr>\n",
       "      <th>Status</th>\n",
       "      <th></th>\n",
       "      <th></th>\n",
       "      <th></th>\n",
       "      <th></th>\n",
       "      <th></th>\n",
       "      <th></th>\n",
       "      <th></th>\n",
       "      <th></th>\n",
       "    </tr>\n",
       "  </thead>\n",
       "  <tbody>\n",
       "    <tr>\n",
       "      <th>alive</th>\n",
       "      <td>435.0</td>\n",
       "      <td>65.21</td>\n",
       "      <td>9.65</td>\n",
       "      <td>37.0</td>\n",
       "      <td>60.00</td>\n",
       "      <td>66.0</td>\n",
       "      <td>72.00</td>\n",
       "      <td>91.0</td>\n",
       "    </tr>\n",
       "    <tr>\n",
       "      <th>deceased</th>\n",
       "      <td>58.0</td>\n",
       "      <td>68.67</td>\n",
       "      <td>10.01</td>\n",
       "      <td>39.0</td>\n",
       "      <td>63.25</td>\n",
       "      <td>71.0</td>\n",
       "      <td>75.75</td>\n",
       "      <td>83.0</td>\n",
       "    </tr>\n",
       "  </tbody>\n",
       "</table>\n",
       "</div>"
      ],
      "text/plain": [
       "          count   mean    std   min    25%   50%    75%   max\n",
       "Status                                                       \n",
       "alive     435.0  65.21   9.65  37.0  60.00  66.0  72.00  91.0\n",
       "deceased   58.0  68.67  10.01  39.0  63.25  71.0  75.75  83.0"
      ]
     },
     "execution_count": 6,
     "metadata": {},
     "output_type": "execute_result"
    }
   ],
   "source": [
    "# average age for pts\n",
    "round(MM_PCL_SMM_MGUS.groupby(['Status'])['profile.age'].describe(),2)"
   ]
  },
  {
   "cell_type": "code",
   "execution_count": 7,
   "metadata": {},
   "outputs": [
    {
     "data": {
      "text/html": [
       "<div>\n",
       "<style scoped>\n",
       "    .dataframe tbody tr th:only-of-type {\n",
       "        vertical-align: middle;\n",
       "    }\n",
       "\n",
       "    .dataframe tbody tr th {\n",
       "        vertical-align: top;\n",
       "    }\n",
       "\n",
       "    .dataframe thead th {\n",
       "        text-align: right;\n",
       "    }\n",
       "</style>\n",
       "<table border=\"1\" class=\"dataframe\">\n",
       "  <thead>\n",
       "    <tr style=\"text-align: right;\">\n",
       "      <th></th>\n",
       "      <th>count</th>\n",
       "      <th>mean</th>\n",
       "      <th>std</th>\n",
       "      <th>min</th>\n",
       "      <th>25%</th>\n",
       "      <th>50%</th>\n",
       "      <th>75%</th>\n",
       "      <th>max</th>\n",
       "    </tr>\n",
       "    <tr>\n",
       "      <th>Status</th>\n",
       "      <th></th>\n",
       "      <th></th>\n",
       "      <th></th>\n",
       "      <th></th>\n",
       "      <th></th>\n",
       "      <th></th>\n",
       "      <th></th>\n",
       "      <th></th>\n",
       "    </tr>\n",
       "  </thead>\n",
       "  <tbody>\n",
       "    <tr>\n",
       "      <th>alive</th>\n",
       "      <td>435.0</td>\n",
       "      <td>65.21</td>\n",
       "      <td>9.65</td>\n",
       "      <td>37.0</td>\n",
       "      <td>60.00</td>\n",
       "      <td>66.0</td>\n",
       "      <td>72.00</td>\n",
       "      <td>91.0</td>\n",
       "    </tr>\n",
       "    <tr>\n",
       "      <th>deceased</th>\n",
       "      <td>58.0</td>\n",
       "      <td>68.67</td>\n",
       "      <td>10.01</td>\n",
       "      <td>39.0</td>\n",
       "      <td>63.25</td>\n",
       "      <td>71.0</td>\n",
       "      <td>75.75</td>\n",
       "      <td>83.0</td>\n",
       "    </tr>\n",
       "  </tbody>\n",
       "</table>\n",
       "</div>"
      ],
      "text/plain": [
       "          count   mean    std   min    25%   50%    75%   max\n",
       "Status                                                       \n",
       "alive     435.0  65.21   9.65  37.0  60.00  66.0  72.00  91.0\n",
       "deceased   58.0  68.67  10.01  39.0  63.25  71.0  75.75  83.0"
      ]
     },
     "execution_count": 7,
     "metadata": {},
     "output_type": "execute_result"
    }
   ],
   "source": [
    "#average age for pts - alive\n",
    "round(MM_PCL_SMM_MGUS.groupby(['Status'])['profile.age'].describe(),2)"
   ]
  },
  {
   "cell_type": "code",
   "execution_count": 8,
   "metadata": {
    "tags": []
   },
   "outputs": [
    {
     "name": "stdout",
     "output_type": "stream",
     "text": [
      "profile.gender\n",
      "female    242\n",
      "male      251\n",
      "Name: A4CUID, dtype: int64\n"
     ]
    }
   ],
   "source": [
    "# gender % for pts\n",
    "print(MM_PCL_SMM_MGUS.groupby(['profile.gender'])['A4CUID'].count())\n"
   ]
  },
  {
   "cell_type": "code",
   "execution_count": 9,
   "metadata": {
    "tags": []
   },
   "outputs": [
    {
     "name": "stdout",
     "output_type": "stream",
     "text": [
      "number of states represented minus one = 43\n",
      "number of non-US countries represented = 8\n"
     ]
    }
   ],
   "source": [
    "# states represented, (-1 because there is a category called 'Outside of US')\n",
    "statecount = MM_PCL_SMM_MGUS['location_state'].nunique()\n",
    "print(\"number of states represented minus one = {}\".format(statecount))\n",
    "\n",
    "# counting countries\n",
    "countries = MM_PCL_SMM_MGUS.loc[MM_PCL_SMM_MGUS['location_state'].str.contains('Out of US')]\n",
    "countries = countries['location_city'].nunique()\n",
    "print(\"number of non-US countries represented = {}\".format(countries))"
   ]
  },
  {
   "cell_type": "code",
   "execution_count": 10,
   "metadata": {},
   "outputs": [
    {
     "data": {
      "text/plain": [
       "A4CUID            42\n",
       "diagnosis         42\n",
       "diagnosis_MGUS    42\n",
       "diagnosis_SMM     12\n",
       "diagnosis_MM      42\n",
       "profile.age       42\n",
       "profile.gender    42\n",
       "dashboardlink     42\n",
       "Status            42\n",
       "primary_clinic    42\n",
       "#_of_clinics      42\n",
       "last_update       42\n",
       "location_city     42\n",
       "location_state    42\n",
       "QCCA              42\n",
       "dtype: int64"
      ]
     },
     "execution_count": 10,
     "metadata": {},
     "output_type": "execute_result"
    }
   ],
   "source": [
    "# patients who had a pre existing condition\n",
    "\n",
    "MMptsonly = MM_PCL_SMM_MGUS.loc[(MM_PCL_SMM_MGUS.diagnosis == 'MM')].reset_index(drop=True)\n",
    "MMptsonly.loc[(pd.notnull(MMptsonly['diagnosis_MGUS']))].count()"
   ]
  },
  {
   "cell_type": "markdown",
   "metadata": {},
   "source": [
    "### LOT Analysis"
   ]
  },
  {
   "cell_type": "markdown",
   "metadata": {},
   "source": [
    "For the LOT analysis we will exclude Smoldering patients and only analyze MM and PCL patients."
   ]
  },
  {
   "cell_type": "code",
   "execution_count": 11,
   "metadata": {},
   "outputs": [],
   "source": [
    "# Identify MM and PCL patients in ptkey\n",
    "\n",
    "MM_PCL = ptkey.loc[~ptkey['diagnosis'].str.contains('SMM|Myelodysplastic|Waldenstrom|MGUS|Amyloidosis|Lymphoma')]"
   ]
  },
  {
   "cell_type": "code",
   "execution_count": 12,
   "metadata": {
    "tags": []
   },
   "outputs": [],
   "source": [
    "# Merge the identified patients with the LOT \n",
    "\n",
    "LOT_ptkey = pd.merge(LOTdata, MM_PCL, on=['A4CUID'])"
   ]
  },
  {
   "cell_type": "code",
   "execution_count": 13,
   "metadata": {
    "tags": []
   },
   "outputs": [
    {
     "data": {
      "text/plain": [
       "Order\n",
       "0       4\n",
       "1     414\n",
       "2     315\n",
       "3     215\n",
       "4     143\n",
       "5      94\n",
       "6      76\n",
       "7      59\n",
       "8      35\n",
       "9      24\n",
       "10     16\n",
       "11     11\n",
       "12      9\n",
       "13      6\n",
       "14      5\n",
       "15      3\n",
       "16      1\n",
       "Name: A4CUID, dtype: int64"
      ]
     },
     "execution_count": 13,
     "metadata": {},
     "output_type": "execute_result"
    }
   ],
   "source": [
    "# Count of A4CUID by order of therapy\n",
    "LOT_ptkey.groupby(['Order'])['A4CUID'].count()"
   ]
  },
  {
   "cell_type": "code",
   "execution_count": 14,
   "metadata": {
    "tags": []
   },
   "outputs": [
    {
     "name": "stdout",
     "output_type": "stream",
     "text": [
      "89 patients received unique first line therapy\n"
     ]
    }
   ],
   "source": [
    "# Separate out order 1 therapy for further analysis\n",
    "\n",
    "firstline = LOT_ptkey.loc[LOT_ptkey['Order'] == 1]\n",
    "unique_LOT = firstline['Line of Therapy'].nunique()\n",
    "print(\"{} patients received unique first line therapy\".format(unique_LOT))"
   ]
  },
  {
   "cell_type": "code",
   "execution_count": 15,
   "metadata": {},
   "outputs": [
    {
     "data": {
      "text/html": [
       "<div>\n",
       "<style scoped>\n",
       "    .dataframe tbody tr th:only-of-type {\n",
       "        vertical-align: middle;\n",
       "    }\n",
       "\n",
       "    .dataframe tbody tr th {\n",
       "        vertical-align: top;\n",
       "    }\n",
       "\n",
       "    .dataframe thead th {\n",
       "        text-align: right;\n",
       "    }\n",
       "</style>\n",
       "<table border=\"1\" class=\"dataframe\">\n",
       "  <thead>\n",
       "    <tr style=\"text-align: right;\">\n",
       "      <th></th>\n",
       "      <th>A4CUID</th>\n",
       "    </tr>\n",
       "    <tr>\n",
       "      <th>Line of Therapy</th>\n",
       "      <th></th>\n",
       "    </tr>\n",
       "  </thead>\n",
       "  <tbody>\n",
       "    <tr>\n",
       "      <th>RVD</th>\n",
       "      <td>92</td>\n",
       "    </tr>\n",
       "    <tr>\n",
       "      <th>CyVD</th>\n",
       "      <td>50</td>\n",
       "    </tr>\n",
       "    <tr>\n",
       "      <th>RVD + Auto-SCT + R</th>\n",
       "      <td>41</td>\n",
       "    </tr>\n",
       "    <tr>\n",
       "      <th>RD</th>\n",
       "      <td>29</td>\n",
       "    </tr>\n",
       "    <tr>\n",
       "      <th>VD</th>\n",
       "      <td>22</td>\n",
       "    </tr>\n",
       "    <tr>\n",
       "      <th>...</th>\n",
       "      <td>...</td>\n",
       "    </tr>\n",
       "    <tr>\n",
       "      <th>RD + Allo-SCT</th>\n",
       "      <td>1</td>\n",
       "    </tr>\n",
       "    <tr>\n",
       "      <th>RD + Auto-SCT</th>\n",
       "      <td>1</td>\n",
       "    </tr>\n",
       "    <tr>\n",
       "      <th>RD + Auto-SCT + R</th>\n",
       "      <td>1</td>\n",
       "    </tr>\n",
       "    <tr>\n",
       "      <th>RD + Auto-SCT + RVD</th>\n",
       "      <td>1</td>\n",
       "    </tr>\n",
       "    <tr>\n",
       "      <th>BHQ880</th>\n",
       "      <td>1</td>\n",
       "    </tr>\n",
       "  </tbody>\n",
       "</table>\n",
       "<p>89 rows × 1 columns</p>\n",
       "</div>"
      ],
      "text/plain": [
       "                     A4CUID\n",
       "Line of Therapy            \n",
       "RVD                      92\n",
       "CyVD                     50\n",
       "RVD + Auto-SCT + R       41\n",
       "RD                       29\n",
       "VD                       22\n",
       "...                     ...\n",
       "RD + Allo-SCT             1\n",
       "RD + Auto-SCT             1\n",
       "RD + Auto-SCT + R         1\n",
       "RD + Auto-SCT + RVD       1\n",
       "BHQ880                    1\n",
       "\n",
       "[89 rows x 1 columns]"
      ]
     },
     "execution_count": 15,
     "metadata": {},
     "output_type": "execute_result"
    }
   ],
   "source": [
    "# Count number of patients per therapy\n",
    "firstline_group = pd.DataFrame(firstline.groupby(['Line of Therapy'])['A4CUID'].count().sort_values(ascending=False))\n",
    "firstline_group"
   ]
  },
  {
   "cell_type": "code",
   "execution_count": 16,
   "metadata": {},
   "outputs": [
    {
     "name": "stdout",
     "output_type": "stream",
     "text": [
      "62 patients received a first line therapy that was not received by others\n"
     ]
    }
   ],
   "source": [
    "# Get info on pts who received a unique first line therapy\n",
    "\n",
    "uniquefirstline = firstline_group.loc[firstline_group['A4CUID'] == 1]\n",
    "uniquedf = pd.merge(uniquefirstline, firstline, on=['Line of Therapy'])\n",
    "unique1stlinetherapypts = uniquedf['Line of Therapy'].count()\n",
    "print(\"{} patients received a first line therapy that was not received by others\".format(unique1stlinetherapypts))"
   ]
  },
  {
   "cell_type": "code",
   "execution_count": null,
   "metadata": {},
   "outputs": [],
   "source": [
    "uniquedf.to_csv('uniquefirstline.csv',index=False)"
   ]
  },
  {
   "cell_type": "code",
   "execution_count": 17,
   "metadata": {
    "tags": []
   },
   "outputs": [
    {
     "name": "stdout",
     "output_type": "stream",
     "text": [
      "17 patients in the unique first line therapy category participated in a clinical trial\n"
     ]
    }
   ],
   "source": [
    "# number of patients who were a part of clinical trial\n",
    "numberofclinicaltrials = uniquedf['NCT number'].count()\n",
    "print(\"{} patients in the unique first line therapy category participated in a clinical trial\".format(numberofclinicaltrials))"
   ]
  },
  {
   "cell_type": "code",
   "execution_count": 18,
   "metadata": {},
   "outputs": [
    {
     "data": {
      "text/plain": [
       "Response\n",
       "CR      10\n",
       "MR       2\n",
       "PR       6\n",
       "SD       3\n",
       "VGPR    19\n",
       "sCR     14\n",
       "Name: A4CUID_x, dtype: int64"
      ]
     },
     "execution_count": 18,
     "metadata": {},
     "output_type": "execute_result"
    }
   ],
   "source": [
    "#Response breakdown in unique 1st line therapy\n",
    "\n",
    "uniquedf.groupby(['Response'])['A4CUID_x'].count()"
   ]
  },
  {
   "cell_type": "code",
   "execution_count": 19,
   "metadata": {},
   "outputs": [
    {
     "name": "stdout",
     "output_type": "stream",
     "text": [
      "245 patients received 6th line and above\n"
     ]
    },
    {
     "data": {
      "text/plain": [
       "Response\n",
       "CR       2\n",
       "MR      21\n",
       "PD      49\n",
       "PR      41\n",
       "SD      52\n",
       "VGPR    31\n",
       "sCR      7\n",
       "Name: A4CUID, dtype: int64"
      ]
     },
     "execution_count": 19,
     "metadata": {},
     "output_type": "execute_result"
    }
   ],
   "source": [
    "# number of patients who received 6th and beyond, categorized by responses\n",
    "numberofptsbeyond6th = LOT_ptkey.loc[LOT_ptkey['Order'] >= 6]['A4CUID'].count()\n",
    "print(\"{} patients received 6th line and above\".format(numberofptsbeyond6th))\n",
    "\n",
    "LOT_ptkey.loc[LOT_ptkey['Order'] >= 6].groupby(['Response'])['A4CUID'].count()"
   ]
  },
  {
   "cell_type": "code",
   "execution_count": 20,
   "metadata": {},
   "outputs": [],
   "source": [
    "# successive line of therapy analysis table\n",
    "\n",
    "responsesbyorder = pd.pivot_table(LOT_ptkey, values='A4CUID', index='Order',columns=['Response'], \n",
    "                                  aggfunc=len, margins=True, dropna=False)\n",
    "responsesbyorder = pd.DataFrame(responsesbyorder)\n",
    "responsesbyorder = responsesbyorder.fillna(0)\n",
    "\n",
    "# calculations\n",
    "\n",
    "responsesbyorder['% Achieving sCR'] = round(((responsesbyorder['sCR'] / responsesbyorder['All']) * 100), 1)\n",
    "responsesbyorder['ORR (%)'] = round(((responsesbyorder['PR'] + responsesbyorder['VGPR'] +\n",
    "                                      responsesbyorder['CR'] + responsesbyorder['sCR'])\n",
    "                                     / responsesbyorder['All'])*100,1)\n",
    "\n",
    "responsesbyorder['CBR (%)'] = round(((responsesbyorder['SD'] + responsesbyorder['MR'] +\n",
    "                                      responsesbyorder['PR'] + responsesbyorder['VGPR'] + responsesbyorder['CR'] +\n",
    "                                      responsesbyorder['sCR']) / responsesbyorder['All'])*100, 1)\n",
    "\n",
    "\n",
    "# output pivot table\n",
    "responsesbyorder_table = responsesbyorder[['All', '% Achieving sCR', 'ORR (%)', 'CBR (%)']]\n",
    "responsesbyorder_table = responsesbyorder_table.rename(columns={'All':'Number of Patients'})\n",
    "responsesbyorder_table = responsesbyorder_table.iloc[0:16]\n"
   ]
  },
  {
   "cell_type": "code",
   "execution_count": 21,
   "metadata": {},
   "outputs": [],
   "source": [
    "# calculating time interval\n",
    "\n",
    "LOT_ptkey['Treatment Start'] = pd.to_datetime(LOT_ptkey['Treatment Start'])\n",
    "LOT_ptkey['End Treatment'] = pd.to_datetime(LOT_ptkey['End Treatment'])\n",
    "\n",
    "timeinterval = LOT_ptkey[['A4CUID', 'Order', 'Line of Therapy', 'Response', 'NCT number', 'Treatment Start', 'End Treatment']]\n",
    "\n",
    "timeinterval = timeinterval.rename(columns={'Treatment Start':'txstart', 'End Treatment':'txend'})\n",
    "\n",
    "timeinterval['txgap'] = timeinterval.groupby('A4CUID')['txstart'].diff()"
   ]
  },
  {
   "cell_type": "code",
   "execution_count": 22,
   "metadata": {},
   "outputs": [],
   "source": [
    "# function to determine gap mean and gap std for each time interval \n",
    "\n",
    "orders = [2, 3, 4, 5, 6, 7, 8, 9, 10, 11, 12, 13, 14, 15, 16]\n",
    "\n",
    "def assigngapmean(x):\n",
    "    txgap = timeinterval.loc[timeinterval['Order'] == x]['txgap'].mean()\n",
    "    return(txgap)\n",
    "\n",
    "    \n",
    "def assigngapstd(x):\n",
    "    txgapstd = timeinterval.loc[timeinterval['Order'] == x]['txgap'].std()\n",
    "    return(txgapstd)\n",
    "\n",
    "def assigngapmed(x):\n",
    "    txgapmed = timeinterval.loc[timeinterval['Order'] == x]['txgap'].median()\n",
    "    return(txgapmed)\n"
   ]
  },
  {
   "cell_type": "code",
   "execution_count": 23,
   "metadata": {},
   "outputs": [],
   "source": [
    "txgapmean={}\n",
    "txgapstd={}\n",
    "txgapmed={}\n",
    "\n",
    "for x in orders:\n",
    "    txgapmean[\"{0}\".format(x)] = assigngapmean(x)\n",
    "    txgapstd[\"{0}\".format(x)] = assigngapstd(x)\n",
    "    txgapmed[\"{0}\".format(x)] = assigngapmed(x)\n"
   ]
  },
  {
   "cell_type": "code",
   "execution_count": 24,
   "metadata": {},
   "outputs": [],
   "source": [
    "# merge mean, med, std data together\n",
    "\n",
    "txgap_mean = pd.DataFrame(txgapmean.items(), columns=['Order', 'txgapmean'])\n",
    "txgap_std = pd.DataFrame(txgapstd.items(), columns=['Order', 'txgapstd'])\n",
    "txgap_med = pd.DataFrame(txgapmed.items(), columns=['Order', 'txgapmed'])\n",
    "\n",
    "txgap_df = pd.merge(txgap_mean, txgap_std, on=['Order'], how='left')\n",
    "txgap_df = pd.merge(txgap_df, txgap_med, on=['Order'], how='left')"
   ]
  },
  {
   "cell_type": "code",
   "execution_count": 25,
   "metadata": {},
   "outputs": [],
   "source": [
    "def organizedays(x):\n",
    "    txgap_df[x] = txgap_df[x].astype(str)\n",
    "    txgap_df[x]= txgap_df[x].str.split(\" \", n = 1, expand = True) \n",
    "    return txgap_df[x]\n",
    "\n",
    "names = ['txgapmean', 'txgapstd', 'txgapmed']\n",
    "\n",
    "for name in names:\n",
    "    txgap_df[name] = organizedays(name)"
   ]
  },
  {
   "cell_type": "code",
   "execution_count": 26,
   "metadata": {},
   "outputs": [],
   "source": [
    "# merge gap data and responsesbyorder table\n",
    "\n",
    "responsesbyorder_table = responsesbyorder_table.reset_index(level=['Order'])\n",
    "responsesbyorder_table['Order'] = responsesbyorder_table['Order'].astype(str)\n",
    "completedf = pd.merge(responsesbyorder_table, txgap_df, how='left', on=['Order'])\n",
    "\n",
    "for name in names:\n",
    "    completedf[name] = completedf[name].str.replace('NaT', 'N/A')\n",
    "\n",
    "completedf['txgapmean'] = completedf['txgapmean'].shift(-1)\n",
    "completedf['txgapstd'] = completedf['txgapstd'].shift(-1)\n",
    "completedf['txgapmed'] = completedf['txgapmed'].shift(-1)\n",
    "\n",
    "completedf = completedf[['Order', 'Number of Patients', '% Achieving sCR', 'ORR (%)', 'CBR (%)', 'txgapmean',\n",
    "                        'txgapmed', 'txgapstd']]\n",
    "\n",
    "completedf = completedf.rename(columns = {'txgapmean':'Days until next line of therapy (mean)',\n",
    "                                          'txgapstd':'Days until next line of therapy (std)',\n",
    "                                         'txgapmed':'Days until next line of therapy (median)'})\n",
    "\n",
    "completedf = completedf.replace(np.NaN, 'N/A')"
   ]
  },
  {
   "cell_type": "code",
   "execution_count": 27,
   "metadata": {},
   "outputs": [],
   "source": [
    "#deceased pts\n",
    "\n",
    "deceasedpts = LOT_ptkey.loc[LOT_ptkey['Status'] == 'deceased']\n",
    "deceasedptslastline = deceasedpts.groupby(['A4CUID']).last()\n",
    "deceasedptslastline['deceased'] = 'Y'\n",
    "\n",
    "deceasedptslastline.sort_values(['Order'])\n",
    "\n",
    "deceasedcount = deceasedptslastline.groupby(['Order'])['deceased'].count()\n",
    "deceasedcount = pd.DataFrame(deceasedcount)\n",
    "deceasedcount.reset_index(level=0, inplace=True)"
   ]
  },
  {
   "cell_type": "code",
   "execution_count": 28,
   "metadata": {},
   "outputs": [],
   "source": [
    "completedf['Order'] = completedf['Order'].astype(int)\n",
    "\n",
    "completedf = pd.merge(completedf, deceasedcount, on=['Order'])\n",
    "\n",
    "completedf = completedf[['Order', 'Number of Patients', '% Achieving sCR', 'ORR (%)', 'CBR (%)',\n",
    "                         'deceased', 'Days until next line of therapy (mean)', \n",
    "                         'Days until next line of therapy (median)',\n",
    "                         'Days until next line of therapy (std)']]\n",
    "\n",
    "\n",
    "completedf = completedf.rename(columns={'deceased':'Interval Deaths',\n",
    "                                       'Order':'Line of Therapy'})"
   ]
  }
 ],
 "metadata": {
  "kernelspec": {
   "display_name": "Python 3.7.3 64-bit ('base': conda)",
   "language": "python",
   "name": "python37364bitbaseconda41c132fe8ab34b66b627d71077f54c73"
  },
  "language_info": {
   "codemirror_mode": {
    "name": "ipython",
    "version": 3
   },
   "file_extension": ".py",
   "mimetype": "text/x-python",
   "name": "python",
   "nbconvert_exporter": "python",
   "pygments_lexer": "ipython3",
   "version": "3.7.7"
  }
 },
 "nbformat": 4,
 "nbformat_minor": 2
}
